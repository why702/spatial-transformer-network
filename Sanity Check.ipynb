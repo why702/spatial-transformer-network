{
 "cells": [
  {
   "cell_type": "code",
   "execution_count": 1,
   "metadata": {},
   "outputs": [
    {
     "name": "stderr",
     "output_type": "stream",
     "text": [
      "/Users/kevin/envs/tensorF/lib/python3.6/importlib/_bootstrap.py:219: RuntimeWarning: compiletime version 3.5 of module 'tensorflow.python.framework.fast_tensor_util' does not match runtime version 3.6\n",
      "  return f(*args, **kwds)\n"
     ]
    }
   ],
   "source": [
    "import numpy as np\n",
    "from PIL import Image\n",
    "import tensorflow as tf\n",
    "\n",
    "from utils.data_utils import img_to_array, array_to_img\n",
    "from transformer import spatial_transformer_network as stn"
   ]
  },
  {
   "cell_type": "code",
   "execution_count": 2,
   "metadata": {},
   "outputs": [],
   "source": [
    "DIMS = (600, 600)\n",
    "CAT1 = 'cat1.jpg'\n",
    "CAT2 = 'cat2.jpg'\n",
    "CAT3 = 'cat3.jpg'\n",
    "CAT4 = 'cat4.jpg'"
   ]
  },
  {
   "cell_type": "code",
   "execution_count": 3,
   "metadata": {},
   "outputs": [],
   "source": [
    "def load_data(dims, img_name, view=False):\n",
    "    \"\"\"\n",
    "    Util function for processing RGB image into 4D tensor.\n",
    "\n",
    "    Returns tensor of shape (1, H, W, C)\n",
    "    \"\"\"\n",
    "    # PIL takes width then height\n",
    "    dims = (dims[1], dims[0])\n",
    "    image_path = './data/' + img_name\n",
    "    x = img_to_array(image_path, dims, view=view)\n",
    "    return x"
   ]
  },
  {
   "cell_type": "markdown",
   "metadata": {},
   "source": [
    "## Load Images"
   ]
  },
  {
   "cell_type": "code",
   "execution_count": 11,
   "metadata": {},
   "outputs": [],
   "source": [
    "# out dims\n",
    "out_H = 600\n",
    "out_W = 600\n",
    "out_dims = (out_H, out_W)\n",
    "\n",
    "# load 4 cat images\n",
    "img1 = load_data(DIMS, CAT1, view=True)\n",
    "img2 = load_data(DIMS, CAT2)\n",
    "img3 = load_data(DIMS, CAT3)\n",
    "img4 = load_data(DIMS, CAT4)"
   ]
  },
  {
   "cell_type": "code",
   "execution_count": 5,
   "metadata": {},
   "outputs": [
    {
     "name": "stdout",
     "output_type": "stream",
     "text": [
      "Input Img Shape: (4, 600, 600, 3)\n"
     ]
    }
   ],
   "source": [
    "input_img = np.concatenate([img1, img2, img3, img4], axis=0)\n",
    "B, H, W, C = input_img.shape\n",
    "print(\"Input Img Shape: {}\".format(input_img.shape))"
   ]
  },
  {
   "cell_type": "markdown",
   "metadata": {},
   "source": [
    "## Testing it Out\n",
    "\n",
    "We'll be using an identity transform as a sanity check. This means the output image should look like the input image."
   ]
  },
  {
   "cell_type": "code",
   "execution_count": 8,
   "metadata": {},
   "outputs": [],
   "source": [
    "# 45 degree rotation\n",
    "theta = np.array([[np.cos(np.pi/4), -np.sin(np.pi/4), 0], [np.sin(np.pi/4), np.cos(np.pi/4), 0]])\n",
    "\n",
    "# # identity transform\n",
    "# theta = np.array([[1., 0, 0], [0, 1., 0]])"
   ]
  },
  {
   "cell_type": "code",
   "execution_count": 9,
   "metadata": {},
   "outputs": [],
   "source": [
    "x = tf.placeholder(tf.float32, [None, H, W, C])\n",
    "\n",
    "# create localisation network and convolutional layer\n",
    "with tf.variable_scope('spatial_transformer_0'):\n",
    "\n",
    "    # create a fully-connected layer with 6 output nodes\n",
    "    n_fc = 6\n",
    "    W_fc1 = tf.Variable(tf.zeros([H*W*C, n_fc]), name='W_fc1')\n",
    "\n",
    "    # affine transformation\n",
    "    theta = theta.astype('float32')\n",
    "    theta = theta.flatten()\n",
    "\n",
    "    b_fc1 = tf.Variable(initial_value=theta, name='b_fc1')\n",
    "    h_fc1 = tf.matmul(tf.zeros([B, H*W*C]), W_fc1) + b_fc1\n",
    "    h_trans = stn(x, h_fc1, out_dims)"
   ]
  },
  {
   "cell_type": "code",
   "execution_count": 10,
   "metadata": {},
   "outputs": [
    {
     "name": "stdout",
     "output_type": "stream",
     "text": [
      "(4, 600, 600, 3)\n"
     ]
    }
   ],
   "source": [
    "# run session\n",
    "sess = tf.Session()\n",
    "sess.run(tf.global_variables_initializer())\n",
    "y = sess.run(h_trans, feed_dict={x: input_img})\n",
    "print(y.shape)\n",
    "y = np.reshape(y, (B, out_H, out_W, C))\n",
    "y = array_to_img(y[0])\n",
    "y.show()"
   ]
  }
 ],
 "metadata": {
  "kernelspec": {
   "display_name": "Python 3",
   "language": "python",
   "name": "python3"
  },
  "language_info": {
   "codemirror_mode": {
    "name": "ipython",
    "version": 3
   },
   "file_extension": ".py",
   "mimetype": "text/x-python",
   "name": "python",
   "nbconvert_exporter": "python",
   "pygments_lexer": "ipython3",
   "version": "3.6.3"
  }
 },
 "nbformat": 4,
 "nbformat_minor": 2
}
